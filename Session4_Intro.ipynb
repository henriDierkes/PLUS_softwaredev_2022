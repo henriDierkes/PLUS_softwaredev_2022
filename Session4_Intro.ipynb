{
 "cells": [
  {
   "cell_type": "code",
   "execution_count": 1,
   "id": "4aca5e2c",
   "metadata": {},
   "outputs": [
    {
     "name": "stdout",
     "output_type": "stream",
     "text": [
      "Hello, this is an intro into Python\n"
     ]
    },
    {
     "data": {
      "text/plain": [
       "str"
      ]
     },
     "execution_count": 1,
     "metadata": {},
     "output_type": "execute_result"
    }
   ],
   "source": [
    "x = \"Hello, this is an intro into Python\"\n",
    "print(x)\n",
    "type(x)"
   ]
  },
  {
   "cell_type": "code",
   "execution_count": 7,
   "id": "1117f322",
   "metadata": {},
   "outputs": [
    {
     "name": "stdout",
     "output_type": "stream",
     "text": [
      "['THis is a list', 'containing', 'strings', ' and numbers:', 234, 567, 789]\n"
     ]
    }
   ],
   "source": [
    "# Create a list\n",
    "\n",
    "list1 = [\"THis is a list\", \"containing\", \"strings\", \" and numbers:\" , 234, 567, 789]\n",
    "print(list1)\n",
    "type(list1)"
   ]
  },
  {
   "cell_type": "code",
   "execution_count": 9,
   "id": "114f6d4c",
   "metadata": {},
   "outputs": [
    {
     "name": "stdout",
     "output_type": "stream",
     "text": [
      "['THis is a list', 'containing', 'strings', ' and numbers:', 234, 67, 789]\n"
     ]
    }
   ],
   "source": [
    "# Change the fith element of the list \n",
    "\n",
    "list1[5] = 67\n",
    "print(list1)"
   ]
  },
  {
   "cell_type": "code",
   "execution_count": 3,
   "id": "5bd23071",
   "metadata": {},
   "outputs": [
    {
     "name": "stdout",
     "output_type": "stream",
     "text": [
      "['THis is a tuple', 'Tuples are unchangeble', 'This tuble contains strings', ' and numbers:', 234, 567, 789]\n"
     ]
    },
    {
     "data": {
      "text/plain": [
       "list"
      ]
     },
     "execution_count": 3,
     "metadata": {},
     "output_type": "execute_result"
    }
   ],
   "source": [
    "# Create a tuple\n",
    "\n",
    "tuple1 = [\"THis is a tuple\", \"Tuples are unchangeble\", \"This tuble contains strings\", \" and numbers:\" , 234, 567, 789]\n",
    "print(tuple1)\n",
    "type(tuple1)"
   ]
  },
  {
   "cell_type": "code",
   "execution_count": 11,
   "id": "ea931069",
   "metadata": {},
   "outputs": [
    {
     "data": {
      "text/plain": [
       "'Jupyter'"
      ]
     },
     "execution_count": 11,
     "metadata": {},
     "output_type": "execute_result"
    }
   ],
   "source": [
    "# Create a dictionary and assess a key \n",
    "\n",
    "this_dict = {\n",
    "    \"name\": \"Jupyter\",\n",
    "    \"style\": \"Lab\",\n",
    "    \"version\": 3.3\n",
    "}\n",
    "\n",
    "this_dict[\"name\"]"
   ]
  },
  {
   "cell_type": "code",
   "execution_count": 22,
   "id": "0ab41d81",
   "metadata": {},
   "outputs": [
    {
     "data": {
      "text/plain": [
       "{'name': 'Maybe Python?', 'style': 'Lab', 'version': 3.3}"
      ]
     },
     "execution_count": 22,
     "metadata": {},
     "output_type": "execute_result"
    }
   ],
   "source": [
    "# Change the value of \"name\" in dictionary\n",
    "\n",
    "this_dict[\"name\"] = \"Maybe Python?\"\n",
    "this_dict"
   ]
  },
  {
   "cell_type": "code",
   "execution_count": 31,
   "id": "5622c890",
   "metadata": {},
   "outputs": [
    {
     "name": "stdout",
     "output_type": "stream",
     "text": [
      "Wow, that is precise\n"
     ]
    }
   ],
   "source": [
    "# play around with indendation and if else statements\n",
    "\n",
    "x = 5\n",
    "if (x > 0) & (x < 5):\n",
    "    print(\"True\")\n",
    "elif x == 5:\n",
    "    print(\"Wow, that is precise\")\n",
    "else:\n",
    "    print(\"False\")"
   ]
  },
  {
   "cell_type": "code",
   "execution_count": 35,
   "id": "a4e4b097",
   "metadata": {},
   "outputs": [
    {
     "name": "stdout",
     "output_type": "stream",
     "text": [
      "This is a thing\n",
      "with different elements\n",
      "234\n",
      "45.6\n",
      "{'key': 'value'}\n"
     ]
    }
   ],
   "source": [
    "# Check out for loops\n",
    "\n",
    "test_item = [\"This is a thing\", \"with different elements\", 234, 45.6, {\"key\":\"value\"}]\n",
    "\n",
    "for x in test_item:\n",
    "    print(x)"
   ]
  },
  {
   "cell_type": "code",
   "execution_count": 38,
   "id": "d7377c64",
   "metadata": {},
   "outputs": [
    {
     "name": "stdout",
     "output_type": "stream",
     "text": [
      "10\n",
      "11\n",
      "12\n",
      "13\n",
      "14\n",
      "15\n",
      "16\n",
      "17\n",
      "18\n",
      "19\n"
     ]
    }
   ],
   "source": [
    "# Check out while loops\n",
    "a = 10\n",
    "\n",
    "while a < 20:\n",
    "    print(a)\n",
    "    a = a + 1"
   ]
  },
  {
   "cell_type": "code",
   "execution_count": 39,
   "id": "91c6f4ee",
   "metadata": {},
   "outputs": [],
   "source": [
    "# Create some function without an argument\n",
    "def my_function():\n",
    "    print(\"Hey, you!\")"
   ]
  },
  {
   "cell_type": "code",
   "execution_count": 40,
   "id": "62a7cb26",
   "metadata": {},
   "outputs": [
    {
     "name": "stdout",
     "output_type": "stream",
     "text": [
      "Hey, you!\n"
     ]
    }
   ],
   "source": [
    "my_function()"
   ]
  },
  {
   "cell_type": "code",
   "execution_count": 41,
   "id": "67b33f4e",
   "metadata": {},
   "outputs": [],
   "source": [
    "# Create a function with an argument\n",
    "def my_function1(x):\n",
    "    print(\"Hey you, what's your name?\")\n",
    "    print(x)"
   ]
  },
  {
   "cell_type": "code",
   "execution_count": 42,
   "id": "63ebcdc1",
   "metadata": {},
   "outputs": [
    {
     "name": "stdout",
     "output_type": "stream",
     "text": [
      "Hey you, what's your name?\n",
      "Hugo\n"
     ]
    }
   ],
   "source": [
    "my_function1(\"Hugo\")"
   ]
  }
 ],
 "metadata": {
  "kernelspec": {
   "display_name": "Python 3",
   "language": "python",
   "name": "python3"
  },
  "language_info": {
   "codemirror_mode": {
    "name": "ipython",
    "version": 3
   },
   "file_extension": ".py",
   "mimetype": "text/x-python",
   "name": "python",
   "nbconvert_exporter": "python",
   "pygments_lexer": "ipython3",
   "version": "3.7.11"
  }
 },
 "nbformat": 4,
 "nbformat_minor": 5
}
