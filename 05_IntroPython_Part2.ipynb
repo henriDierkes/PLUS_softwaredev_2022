{
 "cells": [
  {
   "cell_type": "code",
   "execution_count": 1,
   "id": "d0a38bed",
   "metadata": {},
   "outputs": [],
   "source": [
    "x =  [1, 30, 2, 50, 100, 3000]"
   ]
  },
  {
   "cell_type": "code",
   "execution_count": 2,
   "id": "663e1ce4",
   "metadata": {},
   "outputs": [
    {
     "data": {
      "text/plain": [
       "1"
      ]
     },
     "execution_count": 2,
     "metadata": {},
     "output_type": "execute_result"
    }
   ],
   "source": [
    "min(x)"
   ]
  },
  {
   "cell_type": "code",
   "execution_count": 3,
   "id": "c1c227e5",
   "metadata": {},
   "outputs": [
    {
     "data": {
      "text/plain": [
       "3000"
      ]
     },
     "execution_count": 3,
     "metadata": {},
     "output_type": "execute_result"
    }
   ],
   "source": [
    "max(x)"
   ]
  },
  {
   "cell_type": "code",
   "execution_count": 4,
   "id": "446f0163",
   "metadata": {},
   "outputs": [
    {
     "data": {
      "text/plain": [
       "100"
      ]
     },
     "execution_count": 4,
     "metadata": {},
     "output_type": "execute_result"
    }
   ],
   "source": [
    "abs(-100)"
   ]
  },
  {
   "cell_type": "code",
   "execution_count": 5,
   "id": "0858122f",
   "metadata": {},
   "outputs": [
    {
     "data": {
      "text/plain": [
       "32"
      ]
     },
     "execution_count": 5,
     "metadata": {},
     "output_type": "execute_result"
    }
   ],
   "source": [
    "pow(2, 5)"
   ]
  },
  {
   "cell_type": "code",
   "execution_count": null,
   "id": "c979e2e7",
   "metadata": {},
   "outputs": [],
   "source": [
    "# Create a list, tuple and dictionary containing at least three\n",
    "items each, and assign each of them to a variable"
   ]
  },
  {
   "cell_type": "code",
   "execution_count": 6,
   "id": "d7f83461",
   "metadata": {},
   "outputs": [
    {
     "data": {
      "text/plain": [
       "6"
      ]
     },
     "execution_count": 6,
     "metadata": {},
     "output_type": "execute_result"
    }
   ],
   "source": [
    "len(x)"
   ]
  },
  {
   "cell_type": "code",
   "execution_count": 7,
   "id": "b6163ab1",
   "metadata": {},
   "outputs": [
    {
     "data": {
      "text/plain": [
       "[1, 2, 30, 50, 100, 3000]"
      ]
     },
     "execution_count": 7,
     "metadata": {},
     "output_type": "execute_result"
    }
   ],
   "source": [
    "sorted(x)"
   ]
  },
  {
   "cell_type": "code",
   "execution_count": null,
   "id": "5e521343",
   "metadata": {},
   "outputs": [],
   "source": [
    "# Create a dictonary with key and value pair and try to sort it"
   ]
  },
  {
   "cell_type": "code",
   "execution_count": 9,
   "id": "4f38c68f",
   "metadata": {},
   "outputs": [],
   "source": [
    "y = {\"test\": 1, \"a\": 5, \"b\": 10}"
   ]
  },
  {
   "cell_type": "code",
   "execution_count": 10,
   "id": "800235a1",
   "metadata": {},
   "outputs": [
    {
     "data": {
      "text/plain": [
       "['a', 'b', 'test']"
      ]
     },
     "execution_count": 10,
     "metadata": {},
     "output_type": "execute_result"
    }
   ],
   "source": [
    "# Only sorts the key values\n",
    "sorted(y)"
   ]
  },
  {
   "cell_type": "code",
   "execution_count": 17,
   "id": "797062d5",
   "metadata": {},
   "outputs": [
    {
     "data": {
      "text/plain": [
       "[1, 5, 10]"
      ]
     },
     "execution_count": 17,
     "metadata": {},
     "output_type": "execute_result"
    }
   ],
   "source": [
    "# Sort also the values of dictonary use .values()\n",
    "sorted(y.values())"
   ]
  },
  {
   "cell_type": "code",
   "execution_count": null,
   "id": "1231dc0c",
   "metadata": {},
   "outputs": [],
   "source": [
    "# See what is returned when you call: dir(), globals(),\n",
    "locals(), vars()"
   ]
  },
  {
   "cell_type": "code",
   "execution_count": 49,
   "id": "1cb4f7e5",
   "metadata": {},
   "outputs": [],
   "source": [
    "#dir()"
   ]
  },
  {
   "cell_type": "code",
   "execution_count": 48,
   "id": "0df5df99",
   "metadata": {},
   "outputs": [],
   "source": [
    "#globals()"
   ]
  },
  {
   "cell_type": "code",
   "execution_count": 47,
   "id": "469d9f69",
   "metadata": {},
   "outputs": [],
   "source": [
    "#vars()"
   ]
  },
  {
   "cell_type": "code",
   "execution_count": 19,
   "id": "04866972",
   "metadata": {},
   "outputs": [
    {
     "name": "stdout",
     "output_type": "stream",
     "text": [
      "In\n",
      "Out\n",
      "_\n",
      "_10\n",
      "_13\n",
      "_14\n",
      "_16\n",
      "_17\n",
      "_2\n",
      "_3\n",
      "_4\n",
      "_5\n",
      "_6\n",
      "_7\n",
      "__\n",
      "___\n",
      "__builtin__\n",
      "__builtins__\n",
      "__doc__\n",
      "__loader__\n",
      "__name__\n",
      "__package__\n",
      "__spec__\n",
      "_dh\n",
      "_i\n",
      "_i1\n",
      "_i10\n",
      "_i11\n",
      "_i12\n",
      "_i13\n",
      "_i14\n",
      "_i15\n",
      "_i16\n",
      "_i17\n",
      "_i18\n",
      "_i19\n",
      "_i2\n",
      "_i3\n",
      "_i4\n",
      "_i5\n",
      "_i6\n",
      "_i7\n",
      "_i8\n",
      "_i9\n",
      "_ih\n",
      "_ii\n",
      "_iii\n",
      "_oh\n",
      "exit\n",
      "get_ipython\n",
      "quit\n",
      "test\n",
      "x\n",
      "y\n"
     ]
    }
   ],
   "source": [
    "# assign the output of the functions above as variables and print each item using a “for-loop”:\n",
    "test = dir()\n",
    "\n",
    "for i in test:\n",
    "    print(i)"
   ]
  },
  {
   "cell_type": "code",
   "execution_count": 46,
   "id": "c450359f",
   "metadata": {},
   "outputs": [],
   "source": [
    "# built-in functions and variables are not included by dir() alone, but you can check them doing the following:\n",
    "import builtins\n",
    "#dir(builtins)"
   ]
  },
  {
   "cell_type": "code",
   "execution_count": null,
   "id": "c9f66f94",
   "metadata": {},
   "outputs": [],
   "source": [
    "############# TRY OUT SYS PACKAGE ############"
   ]
  },
  {
   "cell_type": "code",
   "execution_count": 42,
   "id": "7655637c",
   "metadata": {},
   "outputs": [],
   "source": [
    "# Check python version\n",
    "import sys"
   ]
  },
  {
   "cell_type": "code",
   "execution_count": 43,
   "id": "e2361a2d",
   "metadata": {},
   "outputs": [
    {
     "data": {
      "text/plain": [
       "'3.7.11 [MSC v.1927 64 bit (AMD64)]'"
      ]
     },
     "execution_count": 43,
     "metadata": {},
     "output_type": "execute_result"
    }
   ],
   "source": [
    "sys.version"
   ]
  },
  {
   "cell_type": "code",
   "execution_count": 44,
   "id": "8b9a5510",
   "metadata": {},
   "outputs": [],
   "source": [
    "#sys.modules"
   ]
  },
  {
   "cell_type": "code",
   "execution_count": 45,
   "id": "768a05a3",
   "metadata": {},
   "outputs": [],
   "source": [
    "#sys.path"
   ]
  },
  {
   "cell_type": "code",
   "execution_count": null,
   "id": "24ea8ecb",
   "metadata": {},
   "outputs": [],
   "source": [
    "############ TRY OUT OS PACKAGE ############"
   ]
  },
  {
   "cell_type": "code",
   "execution_count": 29,
   "id": "218b0abb",
   "metadata": {},
   "outputs": [],
   "source": [
    "# assign a variable the path to your “current working directory” \n",
    "import os"
   ]
  },
  {
   "cell_type": "code",
   "execution_count": 31,
   "id": "b40c01ee",
   "metadata": {},
   "outputs": [],
   "source": [
    "pathName = os.getcwd()"
   ]
  },
  {
   "cell_type": "code",
   "execution_count": 33,
   "id": "0fa4a94b",
   "metadata": {},
   "outputs": [
    {
     "data": {
      "text/plain": [
       "'C:\\\\Users\\\\Henrike\\\\Desktop\\\\SoftwareDev\\\\PLUS_softwaredev_2022\\\\test.py'"
      ]
     },
     "execution_count": 33,
     "metadata": {},
     "output_type": "execute_result"
    }
   ],
   "source": [
    "# add string and join with current defined path\n",
    "os.path.join(pathName, \"test.py\")"
   ]
  },
  {
   "cell_type": "code",
   "execution_count": 39,
   "id": "921368a6",
   "metadata": {},
   "outputs": [
    {
     "data": {
      "text/plain": [
       "True"
      ]
     },
     "execution_count": 39,
     "metadata": {},
     "output_type": "execute_result"
    }
   ],
   "source": [
    "# verify that it is a directory \n",
    "os.path.isdir(pathName)"
   ]
  },
  {
   "cell_type": "code",
   "execution_count": 40,
   "id": "866305b7",
   "metadata": {},
   "outputs": [
    {
     "data": {
      "text/plain": [
       "'C:\\\\Users\\\\Henrike\\\\Desktop\\\\SoftwareDev'"
      ]
     },
     "execution_count": 40,
     "metadata": {},
     "output_type": "execute_result"
    }
   ],
   "source": [
    "# get the directory name\n",
    "os.path.dirname(pathName)"
   ]
  },
  {
   "cell_type": "code",
   "execution_count": 41,
   "id": "bdc5f293",
   "metadata": {},
   "outputs": [
    {
     "data": {
      "text/plain": [
       "'PLUS_softwaredev_2022'"
      ]
     },
     "execution_count": 41,
     "metadata": {},
     "output_type": "execute_result"
    }
   ],
   "source": [
    "# get the directory “basename”\n",
    "os.path.basename(pathName)"
   ]
  },
  {
   "cell_type": "code",
   "execution_count": 50,
   "id": "871cc6c7",
   "metadata": {},
   "outputs": [],
   "source": [
    "########### TRY OUT SHUTIL ############"
   ]
  },
  {
   "cell_type": "code",
   "execution_count": 51,
   "id": "43d773d1",
   "metadata": {},
   "outputs": [],
   "source": [
    "import shutil"
   ]
  },
  {
   "cell_type": "code",
   "execution_count": 52,
   "id": "5d8733f0",
   "metadata": {},
   "outputs": [
    {
     "data": {
      "text/plain": [
       "'C:\\\\Program Files\\\\ArcGIS\\\\Pro\\\\bin\\\\Python\\\\envs\\\\arcgispro-py3\\\\python.EXE'"
      ]
     },
     "execution_count": 52,
     "metadata": {},
     "output_type": "execute_result"
    }
   ],
   "source": [
    "shutil.which(\"python\")"
   ]
  },
  {
   "cell_type": "code",
   "execution_count": 54,
   "id": "d3f541df",
   "metadata": {},
   "outputs": [],
   "source": [
    "########### TRY OUT DATETIME ############\n",
    "imporprint the datetime object for now usingt datetime"
   ]
  },
  {
   "cell_type": "code",
   "execution_count": 55,
   "id": "fa29f108",
   "metadata": {},
   "outputs": [
    {
     "data": {
      "text/plain": [
       "datetime.datetime(2022, 5, 2, 2, 30, 23, 786975)"
      ]
     },
     "execution_count": 55,
     "metadata": {},
     "output_type": "execute_result"
    }
   ],
   "source": [
    "# print the datetime object for now\n",
    "datetime.datetime.now()"
   ]
  },
  {
   "cell_type": "code",
   "execution_count": 56,
   "id": "880ef36b",
   "metadata": {},
   "outputs": [
    {
     "name": "stdout",
     "output_type": "stream",
     "text": [
      "2022-05-02 02:30:53.637380\n"
     ]
    }
   ],
   "source": [
    "print(datetime.datetime.now())"
   ]
  },
  {
   "cell_type": "code",
   "execution_count": 57,
   "id": "e47813a0",
   "metadata": {},
   "outputs": [],
   "source": [
    "from datetime import datetime "
   ]
  },
  {
   "cell_type": "code",
   "execution_count": 58,
   "id": "38ece0a4",
   "metadata": {},
   "outputs": [
    {
     "data": {
      "text/plain": [
       "datetime.datetime(2022, 5, 2, 2, 31, 20, 912876)"
      ]
     },
     "execution_count": 58,
     "metadata": {},
     "output_type": "execute_result"
    }
   ],
   "source": [
    "datetime.now()"
   ]
  }
 ],
 "metadata": {
  "kernelspec": {
   "display_name": "Python 3",
   "language": "python",
   "name": "python3"
  },
  "language_info": {
   "codemirror_mode": {
    "name": "ipython",
    "version": 3
   },
   "file_extension": ".py",
   "mimetype": "text/x-python",
   "name": "python",
   "nbconvert_exporter": "python",
   "pygments_lexer": "ipython3",
   "version": "3.7.11"
  }
 },
 "nbformat": 4,
 "nbformat_minor": 5
}
